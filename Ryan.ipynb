{
 "cells": [
  {
   "cell_type": "code",
   "execution_count": 2,
   "id": "photographic-winning",
   "metadata": {},
   "outputs": [],
   "source": [
    "import pandas as pd"
   ]
  },
  {
   "cell_type": "code",
   "execution_count": 3,
   "id": "detected-disclosure",
   "metadata": {},
   "outputs": [],
   "source": [
    "df = pd.DataFrame()"
   ]
  },
  {
   "cell_type": "code",
   "execution_count": 4,
   "id": "headed-default",
   "metadata": {},
   "outputs": [],
   "source": [
    "df['Column 1'] = [0.672377, 0.369628, 0.760122, 0.453521, -0.001821, 0.049208, 0.386405, 0.438434]\n",
    "df['Column 2'] = [0.246067, 0.187973, 0.790776, 0.346235, 0.007675, 0.491989, 0.498153, 0.075390]"
   ]
  },
  {
   "cell_type": "code",
   "execution_count": 5,
   "id": "differential-agent",
   "metadata": {},
   "outputs": [],
   "source": [
    "def test_function(df, first_column, second_column):\n",
    "    \n",
    "    num = len(df[first_column])\n",
    "    values = []\n",
    "    for i in range(num):\n",
    "        curr_values = []\n",
    "        corr_lob = df[first_column].iloc[i]\n",
    "        for i in range(num):\n",
    "            corr_cus = df[second_column].iloc[i]\n",
    "            curr_values.append(abs(corr_lob)/(abs(corr_lob) + abs(corr_cus)))\n",
    "        values.append(curr_values)\n",
    "    \n",
    "    \n",
    "    final_values = []\n",
    "    for i in range(len(values)):\n",
    "        curr_value = []\n",
    "        for j in range(len(values)):\n",
    "            curr_value.append(values[j][i])\n",
    "        \n",
    "        final_values.append(curr_value)\n",
    "    return final_values"
   ]
  },
  {
   "cell_type": "code",
   "execution_count": 6,
   "id": "congressional-protest",
   "metadata": {},
   "outputs": [],
   "source": [
    "values = test_function(df, 'Column 1', 'Column 2')"
   ]
  },
  {
   "cell_type": "code",
   "execution_count": 7,
   "id": "incomplete-assessment",
   "metadata": {},
   "outputs": [],
   "source": [
    "first_values = values[0]\n",
    "second_values = values[1]"
   ]
  },
  {
   "cell_type": "code",
   "execution_count": 10,
   "id": "mineral-dairy",
   "metadata": {},
   "outputs": [],
   "source": [
    "df_new = pd.DataFrame()\n",
    "df_new['First Weights'] = first_values\n",
    "df_new['Second_Weights'] = second_values"
   ]
  },
  {
   "cell_type": "code",
   "execution_count": 12,
   "id": "classical-grade",
   "metadata": {},
   "outputs": [
    {
     "data": {
      "text/html": [
       "<div>\n",
       "<style scoped>\n",
       "    .dataframe tbody tr th:only-of-type {\n",
       "        vertical-align: middle;\n",
       "    }\n",
       "\n",
       "    .dataframe tbody tr th {\n",
       "        vertical-align: top;\n",
       "    }\n",
       "\n",
       "    .dataframe thead th {\n",
       "        text-align: right;\n",
       "    }\n",
       "</style>\n",
       "<table border=\"1\" class=\"dataframe\">\n",
       "  <thead>\n",
       "    <tr style=\"text-align: right;\">\n",
       "      <th></th>\n",
       "      <th>First Weights</th>\n",
       "      <th>Second_Weights</th>\n",
       "    </tr>\n",
       "  </thead>\n",
       "  <tbody>\n",
       "    <tr>\n",
       "      <th>0</th>\n",
       "      <td>0.732083</td>\n",
       "      <td>0.781516</td>\n",
       "    </tr>\n",
       "    <tr>\n",
       "      <th>1</th>\n",
       "      <td>0.600343</td>\n",
       "      <td>0.662890</td>\n",
       "    </tr>\n",
       "    <tr>\n",
       "      <th>2</th>\n",
       "      <td>0.755447</td>\n",
       "      <td>0.801736</td>\n",
       "    </tr>\n",
       "    <tr>\n",
       "      <th>3</th>\n",
       "      <td>0.648269</td>\n",
       "      <td>0.706976</td>\n",
       "    </tr>\n",
       "    <tr>\n",
       "      <th>4</th>\n",
       "      <td>0.007346</td>\n",
       "      <td>0.009595</td>\n",
       "    </tr>\n",
       "    <tr>\n",
       "      <th>5</th>\n",
       "      <td>0.166651</td>\n",
       "      <td>0.207470</td>\n",
       "    </tr>\n",
       "    <tr>\n",
       "      <th>6</th>\n",
       "      <td>0.610944</td>\n",
       "      <td>0.672736</td>\n",
       "    </tr>\n",
       "    <tr>\n",
       "      <th>7</th>\n",
       "      <td>0.640516</td>\n",
       "      <td>0.699919</td>\n",
       "    </tr>\n",
       "  </tbody>\n",
       "</table>\n",
       "</div>"
      ],
      "text/plain": [
       "   First Weights  Second_Weights\n",
       "0       0.732083        0.781516\n",
       "1       0.600343        0.662890\n",
       "2       0.755447        0.801736\n",
       "3       0.648269        0.706976\n",
       "4       0.007346        0.009595\n",
       "5       0.166651        0.207470\n",
       "6       0.610944        0.672736\n",
       "7       0.640516        0.699919"
      ]
     },
     "execution_count": 12,
     "metadata": {},
     "output_type": "execute_result"
    }
   ],
   "source": [
    "df_new"
   ]
  },
  {
   "cell_type": "code",
   "execution_count": null,
   "id": "verbal-science",
   "metadata": {},
   "outputs": [],
   "source": []
  }
 ],
 "metadata": {
  "kernelspec": {
   "display_name": "Python 3",
   "language": "python",
   "name": "python3"
  },
  "language_info": {
   "codemirror_mode": {
    "name": "ipython",
    "version": 3
   },
   "file_extension": ".py",
   "mimetype": "text/x-python",
   "name": "python",
   "nbconvert_exporter": "python",
   "pygments_lexer": "ipython3",
   "version": "3.8.5"
  }
 },
 "nbformat": 4,
 "nbformat_minor": 5
}
